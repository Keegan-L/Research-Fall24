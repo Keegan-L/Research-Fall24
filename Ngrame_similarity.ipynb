{
 "cells": [
  {
   "cell_type": "code",
   "execution_count": 3,
   "id": "d240dc26-d186-4aca-85aa-06bc2b896727",
   "metadata": {},
   "outputs": [
    {
     "ename": "ModuleNotFoundError",
     "evalue": "No module named 'torch'",
     "output_type": "error",
     "traceback": [
      "\u001b[0;31m---------------------------------------------------------------------------\u001b[0m",
      "\u001b[0;31mModuleNotFoundError\u001b[0m                       Traceback (most recent call last)",
      "Cell \u001b[0;32mIn[3], line 2\u001b[0m\n\u001b[1;32m      1\u001b[0m \u001b[38;5;28;01mimport\u001b[39;00m \u001b[38;5;21;01mos\u001b[39;00m\n\u001b[0;32m----> 2\u001b[0m \u001b[38;5;28;01mimport\u001b[39;00m \u001b[38;5;21;01mtorch\u001b[39;00m\n\u001b[1;32m      3\u001b[0m \u001b[38;5;28;01mfrom\u001b[39;00m \u001b[38;5;21;01mtqdm\u001b[39;00m \u001b[38;5;28;01mimport\u001b[39;00m tqdm\n\u001b[1;32m      4\u001b[0m \u001b[38;5;28;01mimport\u001b[39;00m \u001b[38;5;21;01mplotly\u001b[39;00m\u001b[38;5;21;01m.\u001b[39;00m\u001b[38;5;21;01mexpress\u001b[39;00m \u001b[38;5;28;01mas\u001b[39;00m \u001b[38;5;21;01mpx\u001b[39;00m\n",
      "\u001b[0;31mModuleNotFoundError\u001b[0m: No module named 'torch'"
     ]
    }
   ],
   "source": [
    "import os\n",
    "import torch\n",
    "from tqdm import tqdm\n",
    "import plotly.express as px\n",
    "import pickle\n",
    "import torch.nn.functional as F\n",
    "from transformer_lens import HookedTransformer\n",
    "import seaborn as sns\n",
    "import matplotlib.pyplot as plt\n",
    "import numpy as np\n",
    "from datasets import load_dataset\n",
    "from transformer_lens import HookedTransformer\n",
    "from sae_lens import SAE\n",
    "\n",
    "torch.set_grad_enabled(False)\n"
   ]
  },
  {
   "cell_type": "code",
   "execution_count": null,
   "id": "a55ef437-c3f3-4bb8-9170-e32fc159e4ef",
   "metadata": {},
   "outputs": [],
   "source": [
    "#Load model\n",
    "\n",
    "model = HookedTransformer.from_pretrained(\"gpt2-small\", device=device)"
   ]
  },
  {
   "cell_type": "code",
   "execution_count": 1,
   "id": "9fa4406d-a0b1-4350-987f-0ed699052036",
   "metadata": {},
   "outputs": [],
   "source": [
    "#Function to get top tokens from a prompt\n",
    "\n",
    "def get_top_predictions(prompt, top_k=10):\n",
    "    \"\"\"Get top k predicted tokens after a prompt.\"\"\"\n",
    "    input_tokens = model.to_tokens(prompt, prepend_bos=True)\n",
    "    logits = model(input_tokens)\n",
    "    probs = logits.softmax(dim=-1)\n",
    "    \n",
    "    # Get predictions for the last position\n",
    "    index = len(input_tokens[0])\n",
    "    token_probs = probs[:, index - 1]\n",
    "    sorted_token_probs, sorted_token_positions = token_probs.sort(descending=True)\n",
    "    \n",
    "    return [(model.to_string(sorted_token_positions[0, i]), \n",
    "             sorted_token_probs[0, i].item()) \n",
    "            for i in range(top_k)]"
   ]
  },
  {
   "cell_type": "code",
   "execution_count": null,
   "id": "bbbb7415-2088-48db-af36-2400a29533e8",
   "metadata": {},
   "outputs": [],
   "source": [
    "#Get top unigrams (starting from empty context)\n",
    "def get_top_unigrams():\n",
    "    print(\"Finding top unigrams...\")\n",
    "    top_unigrams = []\n",
    "    predictions = get_top_predictions(\"<|endoftext|>\")\n",
    "    for token, prob in predictions:\n",
    "        print(f\"Token: |{token}| Probability: {prob:.2%}\")\n",
    "        top_unigrams.append(token)\n",
    "\n"
   ]
  },
  {
   "cell_type": "code",
   "execution_count": null,
   "id": "a1bf62fd-2de7-4dae-8426-1e6edd16b80c",
   "metadata": {},
   "outputs": [],
   "source": [
    "#Function to get embeddings\n",
    "def get_embedding(word, layer):\n",
    "    tokens = model.to_tokens(word, prepend_bos=True)\n",
    "    _, cache = model.run_with_cache(tokens)\n",
    "    \n",
    "    embedding = cache[\"blocks.\" + str(layer) +\".hook_resid\"][:, -1, :]\n",
    "    return embedding"
   ]
  },
  {
   "cell_type": "code",
   "execution_count": 5,
   "id": "eb948a3f-71b6-4c07-abcd-16a22f80b45b",
   "metadata": {},
   "outputs": [
    {
     "ename": "SyntaxError",
     "evalue": "incomplete input (2083086168.py, line 1)",
     "output_type": "error",
     "traceback": [
      "\u001b[0;36m  Cell \u001b[0;32mIn[5], line 1\u001b[0;36m\u001b[0m\n\u001b[0;31m    def main(layer):\u001b[0m\n\u001b[0m                    ^\u001b[0m\n\u001b[0;31mSyntaxError\u001b[0m\u001b[0;31m:\u001b[0m incomplete input\n"
     ]
    }
   ],
   "source": [
    "def main(prompt, layer):\n",
    "     "
   ]
  },
  {
   "cell_type": "code",
   "execution_count": null,
   "id": "cf2c7638-d095-4042-bdce-f6da55993bca",
   "metadata": {},
   "outputs": [],
   "source": []
  }
 ],
 "metadata": {
  "kernelspec": {
   "display_name": "Python 3 (ipykernel)",
   "language": "python",
   "name": "python3"
  },
  "language_info": {
   "codemirror_mode": {
    "name": "ipython",
    "version": 3
   },
   "file_extension": ".py",
   "mimetype": "text/x-python",
   "name": "python",
   "nbconvert_exporter": "python",
   "pygments_lexer": "ipython3",
   "version": "3.12.4"
  }
 },
 "nbformat": 4,
 "nbformat_minor": 5
}
